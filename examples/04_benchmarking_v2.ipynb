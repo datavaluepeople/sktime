{
 "cells": [
  {
   "cell_type": "markdown",
   "id": "7103ac7a",
   "metadata": {},
   "source": [
    "# Benchmarking - comparing estimator performance\n",
    "\n",
    "Using sktime objects and interfaces."
   ]
  },
  {
   "cell_type": "code",
   "execution_count": 1,
   "id": "c1bd1038",
   "metadata": {},
   "outputs": [],
   "source": [
    "from sktime.benchmarking.forecasting import ForecastingBenchmark\n",
    "from sktime.datasets import load_airline\n",
    "from sktime.forecasting.model_selection import ExpandingWindowSplitter\n",
    "from sktime.forecasting.naive import NaiveForecaster\n",
    "from sktime.performance_metrics.forecasting import MeanSquaredPercentageError"
   ]
  },
  {
   "cell_type": "code",
   "execution_count": 2,
   "id": "5ed25ac5",
   "metadata": {},
   "outputs": [],
   "source": [
    "benchmark = ForecastingBenchmark()"
   ]
  },
  {
   "cell_type": "markdown",
   "id": "9bbd5032",
   "metadata": {},
   "source": [
    "### Add estimators to compare"
   ]
  },
  {
   "cell_type": "code",
   "execution_count": 3,
   "id": "d9122963",
   "metadata": {},
   "outputs": [],
   "source": [
    "benchmark.add_estimator(\n",
    "    estimator_entrypoint=NaiveForecaster,\n",
    "    estimator_kwargs={\"strategy\": \"mean\", \"sp\": 12},\n",
    "    estimator_id=\"NaiveForecaster-mean-v1\",\n",
    ")\n",
    "benchmark.add_estimator(\n",
    "    estimator_entrypoint=NaiveForecaster,\n",
    "    estimator_kwargs={\"strategy\": \"last\", \"sp\": 12},\n",
    "    estimator_id=\"NaiveForecaster-last-v1\",\n",
    ")"
   ]
  },
  {
   "cell_type": "markdown",
   "id": "30056814",
   "metadata": {},
   "source": [
    "### Add prediction/validation tasks on which to compare estimator performance"
   ]
  },
  {
   "cell_type": "code",
   "execution_count": 4,
   "id": "812bd976",
   "metadata": {},
   "outputs": [],
   "source": [
    "# Specify cross-validation split methods\n",
    "cv_splitter = ExpandingWindowSplitter(\n",
    "    initial_window=24,\n",
    "    step_length=12,\n",
    "    fh=12,\n",
    ")\n",
    "\n",
    "# Specify comparison metrics\n",
    "scorers = [MeanSquaredPercentageError()]\n",
    "\n",
    "# Specify dataset loaders\n",
    "dataset_loaders = [load_airline]\n",
    "\n",
    "# Add tasks, optionally use loops etc. to easily set up multiple tasks\n",
    "for dataset_loader in dataset_loaders:\n",
    "    benchmark.add_task(\n",
    "        dataset_loader,\n",
    "        cv_splitter,\n",
    "        scorers,\n",
    "    )"
   ]
  },
  {
   "cell_type": "markdown",
   "id": "401deb16",
   "metadata": {},
   "source": [
    "### Run task-estimator combinations and store results\n",
    "\n",
    "Note that `run` won't recompute results, so adding a new\n",
    "estimator and running again will only run tasks for that\n",
    "new estimator."
   ]
  },
  {
   "cell_type": "code",
   "execution_count": 5,
   "id": "5f75a779",
   "metadata": {},
   "outputs": [
    {
     "data": {
      "text/html": [
       "<div>\n",
       "<style scoped>\n",
       "    .dataframe tbody tr th:only-of-type {\n",
       "        vertical-align: middle;\n",
       "    }\n",
       "\n",
       "    .dataframe tbody tr th {\n",
       "        vertical-align: top;\n",
       "    }\n",
       "\n",
       "    .dataframe thead th {\n",
       "        text-align: right;\n",
       "    }\n",
       "</style>\n",
       "<table border=\"1\" class=\"dataframe\">\n",
       "  <thead>\n",
       "    <tr style=\"text-align: right;\">\n",
       "      <th></th>\n",
       "      <th>validation_id</th>\n",
       "      <th>model_id</th>\n",
       "      <th>runtime_secs</th>\n",
       "      <th>MeanSquaredPercentageError_fold_0_test</th>\n",
       "      <th>MeanSquaredPercentageError_fold_1_test</th>\n",
       "      <th>MeanSquaredPercentageError_fold_2_test</th>\n",
       "      <th>MeanSquaredPercentageError_fold_3_test</th>\n",
       "      <th>MeanSquaredPercentageError_fold_4_test</th>\n",
       "      <th>MeanSquaredPercentageError_fold_5_test</th>\n",
       "      <th>MeanSquaredPercentageError_fold_6_test</th>\n",
       "      <th>MeanSquaredPercentageError_fold_7_test</th>\n",
       "      <th>MeanSquaredPercentageError_fold_8_test</th>\n",
       "      <th>MeanSquaredPercentageError_fold_9_test</th>\n",
       "      <th>MeanSquaredPercentageError_mean</th>\n",
       "      <th>MeanSquaredPercentageError_std</th>\n",
       "    </tr>\n",
       "  </thead>\n",
       "  <tbody>\n",
       "    <tr>\n",
       "      <th>0</th>\n",
       "      <td>[dataset=load_airline]_[cv_splitter=ExpandingW...</td>\n",
       "      <td>NaiveForecaster-last-v1</td>\n",
       "      <td>0.121201</td>\n",
       "      <td>0.024532</td>\n",
       "      <td>0.020831</td>\n",
       "      <td>0.001213</td>\n",
       "      <td>0.014950</td>\n",
       "      <td>0.031067</td>\n",
       "      <td>0.008373</td>\n",
       "      <td>0.007972</td>\n",
       "      <td>0.000009</td>\n",
       "      <td>0.028191</td>\n",
       "      <td>0.003906</td>\n",
       "      <td>0.014104</td>\n",
       "      <td>0.011451</td>\n",
       "    </tr>\n",
       "    <tr>\n",
       "      <th>1</th>\n",
       "      <td>[dataset=load_airline]_[cv_splitter=ExpandingW...</td>\n",
       "      <td>NaiveForecaster-mean-v1</td>\n",
       "      <td>0.126832</td>\n",
       "      <td>0.049681</td>\n",
       "      <td>0.073700</td>\n",
       "      <td>0.053520</td>\n",
       "      <td>0.081063</td>\n",
       "      <td>0.138163</td>\n",
       "      <td>0.145125</td>\n",
       "      <td>0.154337</td>\n",
       "      <td>0.123298</td>\n",
       "      <td>0.185644</td>\n",
       "      <td>0.184654</td>\n",
       "      <td>0.118918</td>\n",
       "      <td>0.051265</td>\n",
       "    </tr>\n",
       "  </tbody>\n",
       "</table>\n",
       "</div>"
      ],
      "text/plain": [
       "                                       validation_id                 model_id  \\\n",
       "0  [dataset=load_airline]_[cv_splitter=ExpandingW...  NaiveForecaster-last-v1   \n",
       "1  [dataset=load_airline]_[cv_splitter=ExpandingW...  NaiveForecaster-mean-v1   \n",
       "\n",
       "   runtime_secs  MeanSquaredPercentageError_fold_0_test  \\\n",
       "0      0.121201                                0.024532   \n",
       "1      0.126832                                0.049681   \n",
       "\n",
       "   MeanSquaredPercentageError_fold_1_test  \\\n",
       "0                                0.020831   \n",
       "1                                0.073700   \n",
       "\n",
       "   MeanSquaredPercentageError_fold_2_test  \\\n",
       "0                                0.001213   \n",
       "1                                0.053520   \n",
       "\n",
       "   MeanSquaredPercentageError_fold_3_test  \\\n",
       "0                                0.014950   \n",
       "1                                0.081063   \n",
       "\n",
       "   MeanSquaredPercentageError_fold_4_test  \\\n",
       "0                                0.031067   \n",
       "1                                0.138163   \n",
       "\n",
       "   MeanSquaredPercentageError_fold_5_test  \\\n",
       "0                                0.008373   \n",
       "1                                0.145125   \n",
       "\n",
       "   MeanSquaredPercentageError_fold_6_test  \\\n",
       "0                                0.007972   \n",
       "1                                0.154337   \n",
       "\n",
       "   MeanSquaredPercentageError_fold_7_test  \\\n",
       "0                                0.000009   \n",
       "1                                0.123298   \n",
       "\n",
       "   MeanSquaredPercentageError_fold_8_test  \\\n",
       "0                                0.028191   \n",
       "1                                0.185644   \n",
       "\n",
       "   MeanSquaredPercentageError_fold_9_test  MeanSquaredPercentageError_mean  \\\n",
       "0                                0.003906                         0.014104   \n",
       "1                                0.184654                         0.118918   \n",
       "\n",
       "   MeanSquaredPercentageError_std  \n",
       "0                        0.011451  \n",
       "1                        0.051265  "
      ]
     },
     "execution_count": 5,
     "metadata": {},
     "output_type": "execute_result"
    }
   ],
   "source": [
    "results_df = benchmark.run(\"./forecasting_results.csv\")\n",
    "results_df"
   ]
  }
 ],
 "metadata": {
  "kernelspec": {
   "display_name": "Python 3 (ipykernel)",
   "language": "python",
   "name": "python3"
  },
  "language_info": {
   "codemirror_mode": {
    "name": "ipython",
    "version": 3
   },
   "file_extension": ".py",
   "mimetype": "text/x-python",
   "name": "python",
   "nbconvert_exporter": "python",
   "pygments_lexer": "ipython3",
   "version": "3.9.2"
  }
 },
 "nbformat": 4,
 "nbformat_minor": 5
}
