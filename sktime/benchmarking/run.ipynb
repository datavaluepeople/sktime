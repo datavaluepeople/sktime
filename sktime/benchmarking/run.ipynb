{
 "cells": [
  {
   "cell_type": "code",
   "execution_count": null,
   "id": "b99fe5e9",
   "metadata": {
    "scrolled": true
   },
   "outputs": [],
   "source": [
    "%load_ext autoreload\n",
    "%autoreload 2"
   ]
  },
  {
   "cell_type": "code",
   "execution_count": null,
   "id": "145d5a96",
   "metadata": {},
   "outputs": [],
   "source": [
    "import pandas as pd\n",
    "from kotsu import run\n",
    "\n",
    "from sktime.benchmarking import estimator_registry, validation_registry"
   ]
  },
  {
   "cell_type": "code",
   "execution_count": null,
   "id": "2a84db36",
   "metadata": {},
   "outputs": [],
   "source": [
    "validation_registry.all()"
   ]
  },
  {
   "cell_type": "code",
   "execution_count": null,
   "id": "023bef3d",
   "metadata": {},
   "outputs": [],
   "source": [
    "estimator_registry.all()"
   ]
  },
  {
   "cell_type": "code",
   "execution_count": null,
   "id": "637b1a67",
   "metadata": {},
   "outputs": [],
   "source": [
    "run.run(estimator_registry, validation_registry, \"./results.csv\")"
   ]
  },
  {
   "cell_type": "code",
   "execution_count": null,
   "id": "85c1d549",
   "metadata": {},
   "outputs": [],
   "source": [
    "df = pd.read_csv(\"./results.csv\")"
   ]
  },
  {
   "cell_type": "code",
   "execution_count": null,
   "id": "ea465ffa",
   "metadata": {},
   "outputs": [],
   "source": [
    "df"
   ]
  }
 ],
 "metadata": {
  "kernelspec": {
   "display_name": "Python 3 (ipykernel)",
   "language": "python",
   "name": "python3"
  },
  "language_info": {
   "codemirror_mode": {
    "name": "ipython",
    "version": 3
   },
   "file_extension": ".py",
   "mimetype": "text/x-python",
   "name": "python",
   "nbconvert_exporter": "python",
   "pygments_lexer": "ipython3",
   "version": "3.9.2"
  }
 },
 "nbformat": 4,
 "nbformat_minor": 5
}
